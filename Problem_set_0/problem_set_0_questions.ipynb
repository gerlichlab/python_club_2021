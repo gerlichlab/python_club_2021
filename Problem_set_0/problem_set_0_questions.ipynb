{
 "cells": [
  {
   "cell_type": "markdown",
   "metadata": {},
   "source": [
    "<b>Answer the following questions as a markdown file in github in your folder:<b>\n",
    "    \n",
    "    \n",
    "- What is a markdown file?\n",
    "    \n",
    "A markdown file is a file that is not read as code, but instead as plain text. The markdown language lets you format your files in an easy to read way.  \n",
    "        \n",
    "- What is a conda environment?\n",
    "    \n",
    "A conda environment contains a collection of software packages and dependencies, which are required to run a particular script or programme.\n",
    "   \n",
    "- How can I install and use a different python version?\n",
    "    \n",
    "To install a different python version run the following command with the relevant version of Python\n",
    "\n",
    "sudo apt install python3\n",
    "Now if you run the python -V command, you will get the 3.5.2 as output. Normally installation path will be /usr/bin/python3.5.\n",
    "\n",
    "How to switch between different python version?\n",
    "If we have multiple python versions installed in our system, then python will use only one executable\n",
    "Using update-alternatives:\n",
    "To switch between python version over the all users, we can use update-alternatives command.\n",
    "We will set priority of each version using update-alternatives. Python executable with the highest priority will be used as default python version.\n",
    "We will set the priority by the following commands:\n",
    "\n",
    "sudo update-alternatives --install /usr/bin/python python /usr/bin/python2.7 1\n",
    "sudo update-alternatives --install /usr/bin/python python /usr/bin/python3.5 2\n",
    "sudo update-alternatives --install /usr/bin/python python /usr/bin/python3.6 3\n",
    "sudo update-alternatives --install /usr/bin/python python /usr/bin/python3.7 4\n",
    "sudo update-alternatives --install /usr/bin/python python /usr/bin/python3.8 5\n",
    "Here I set the priority of python 2.7, 3.5, 3.6, 3.7, 3.8 as 1, 2, 3, 4, 5. As the python3.8 has the highest priority, the default python executable is python3.8 now.\n",
    "To switch between any versions, we can use the following command:\n",
    "sudo update-alternatives --config python\n",
    "    \n",
    " \n",
    "- What is git?\n",
    "    \n",
    "Git thinks of its data more like a series of snapshots of a miniature filesystem. With Git, every time you commit, or save the state of your project, Git basically takes a picture of what all your files look like at that moment and stores a reference to that snapshot. To be efficient, if files have not changed, Git doesn’t store the file again, just a link to the previous identical file it has already stored. Git thinks about its data more like a stream of snapshots.\n",
    "\n",
    "- What is a git branch?\n",
    "\n",
    "In general, a development branch is a bifurcation of the state of code that creates a new path for the evolution of it. It can be parallel to other Git branches that you can generate."
   ]
  },
  {
   "cell_type": "code",
   "execution_count": null,
   "metadata": {},
   "outputs": [],
   "source": []
  },
  {
   "cell_type": "code",
   "execution_count": null,
   "metadata": {},
   "outputs": [],
   "source": []
  },
  {
   "cell_type": "code",
   "execution_count": null,
   "metadata": {},
   "outputs": [],
   "source": []
  },
  {
   "cell_type": "code",
   "execution_count": null,
   "metadata": {},
   "outputs": [],
   "source": []
  },
  {
   "cell_type": "code",
   "execution_count": null,
   "metadata": {},
   "outputs": [],
   "source": []
  },
  {
   "cell_type": "code",
   "execution_count": null,
   "metadata": {},
   "outputs": [],
   "source": []
  },
  {
   "cell_type": "code",
   "execution_count": null,
   "metadata": {},
   "outputs": [],
   "source": []
  }
 ],
 "metadata": {
  "kernelspec": {
   "display_name": "slicer_v0.1",
   "language": "python",
   "name": "slicer_v0.1"
  },
  "language_info": {
   "codemirror_mode": {
    "name": "ipython",
    "version": 3
   },
   "file_extension": ".py",
   "mimetype": "text/x-python",
   "name": "python",
   "nbconvert_exporter": "python",
   "pygments_lexer": "ipython3",
   "version": "3.6.7"
  }
 },
 "nbformat": 4,
 "nbformat_minor": 4
}
