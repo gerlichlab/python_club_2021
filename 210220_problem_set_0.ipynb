{
 "cells": [
  {
   "cell_type": "code",
   "execution_count": 35,
   "metadata": {},
   "outputs": [],
   "source": [
    "import numpy as np"
   ]
  },
  {
   "cell_type": "markdown",
   "metadata": {},
   "source": [
    "Write a program that does the following in order:\n",
    "1. Asks the user to enter a number “x”\n",
    "2. Asks the user to enter a number “y”\n",
    "3. Prints out number “x”, raised to the power “y”.\n",
    "4. Prints out the log (base 2) of “x”."
   ]
  },
  {
   "cell_type": "code",
   "execution_count": 31,
   "metadata": {},
   "outputs": [],
   "source": [
    "#Input variables are integers"
   ]
  },
  {
   "cell_type": "code",
   "execution_count": 25,
   "metadata": {},
   "outputs": [
    {
     "name": "stdin",
     "output_type": "stream",
     "text": [
      "Enter a number \"x\":  3\n",
      "Enter a number \"y\" :  4\n"
     ]
    },
    {
     "name": "stdout",
     "output_type": "stream",
     "text": [
      "X**y = 81\n",
      "log2(x) =  1.584962500721156\n"
     ]
    }
   ],
   "source": [
    "x = int(input('Enter a number \"x\": '))\n",
    "y = int (input ('Enter a number \"y\" : '))\n",
    "print(\"X**y =\", x**y)\n",
    "print(\"log2(x) = \", np.log2(x))"
   ]
  },
  {
   "cell_type": "code",
   "execution_count": 32,
   "metadata": {},
   "outputs": [],
   "source": [
    "#Input variables are floats"
   ]
  },
  {
   "cell_type": "code",
   "execution_count": 27,
   "metadata": {},
   "outputs": [
    {
     "name": "stdin",
     "output_type": "stream",
     "text": [
      "Enter a number \"x\":  3\n",
      "Enter a number \"y\" :  4\n"
     ]
    },
    {
     "name": "stdout",
     "output_type": "stream",
     "text": [
      "X**y = 81.0\n",
      "log2(x) =  1.584962500721156\n"
     ]
    }
   ],
   "source": [
    "x = float(input('Enter a number \"x\": '))\n",
    "y = float(input ('Enter a number \"y\" : '))\n",
    "print(\"X**y =\", x**y)\n",
    "print(\"log2(x) = \", np.log2(x))"
   ]
  },
  {
   "cell_type": "code",
   "execution_count": 34,
   "metadata": {},
   "outputs": [],
   "source": [
    "#Inputs are integers, output is a string"
   ]
  },
  {
   "cell_type": "code",
   "execution_count": 33,
   "metadata": {},
   "outputs": [
    {
     "name": "stdin",
     "output_type": "stream",
     "text": [
      "Enter a number \"x\":  3\n",
      "Enter a number \"y\" :  4\n"
     ]
    },
    {
     "name": "stdout",
     "output_type": "stream",
     "text": [
      "X**y = 81\n",
      "log2(x) =  1.584962500721156\n"
     ]
    }
   ],
   "source": [
    "x = int(input('Enter a number \"x\": '))\n",
    "y = int (input ('Enter a number \"y\" : '))\n",
    "print(\"X**y =\", str(x**y))\n",
    "print(\"log2(x) = \", str(np.log2(x)))"
   ]
  },
  {
   "cell_type": "code",
   "execution_count": null,
   "metadata": {},
   "outputs": [],
   "source": []
  },
  {
   "cell_type": "code",
   "execution_count": null,
   "metadata": {},
   "outputs": [],
   "source": []
  }
 ],
 "metadata": {
  "kernelspec": {
   "display_name": "slicer_v0.1",
   "language": "python",
   "name": "slicer_v0.1"
  },
  "language_info": {
   "codemirror_mode": {
    "name": "ipython",
    "version": 3
   },
   "file_extension": ".py",
   "mimetype": "text/x-python",
   "name": "python",
   "nbconvert_exporter": "python",
   "pygments_lexer": "ipython3",
   "version": "3.6.7"
  }
 },
 "nbformat": 4,
 "nbformat_minor": 4
}
